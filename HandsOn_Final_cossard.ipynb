{
 "cells": [
  {
   "cell_type": "markdown",
   "metadata": {},
   "source": [
    "# Hands on session: Analysis of Higgs data"
   ]
  },
  {
   "cell_type": "code",
   "execution_count": 1,
   "metadata": {
    "execution": {
     "iopub.execute_input": "2022-05-17T14:33:07.339816Z",
     "iopub.status.busy": "2022-05-17T14:33:07.338865Z",
     "iopub.status.idle": "2022-05-17T14:33:07.555511Z",
     "shell.execute_reply": "2022-05-17T14:33:07.554579Z",
     "shell.execute_reply.started": "2022-05-17T14:33:07.339646Z"
    },
    "tags": []
   },
   "outputs": [],
   "source": [
    "%reload_ext custom_magics"
   ]
  },
  {
   "cell_type": "code",
   "execution_count": 2,
   "metadata": {
    "execution": {
     "iopub.execute_input": "2022-05-17T14:33:08.328867Z",
     "iopub.status.busy": "2022-05-17T14:33:08.328606Z",
     "iopub.status.idle": "2022-05-17T14:33:09.424814Z",
     "shell.execute_reply": "2022-05-17T14:33:09.424066Z",
     "shell.execute_reply.started": "2022-05-17T14:33:08.328840Z"
    },
    "tags": []
   },
   "outputs": [],
   "source": [
    "import pandas as pd\n",
    "import numpy as np\n",
    "import matplotlib.pyplot as plt\n",
    "%matplotlib inline\n",
    "\n",
    "from custom_functions import *"
   ]
  },
  {
   "cell_type": "code",
   "execution_count": 3,
   "metadata": {
    "execution": {
     "iopub.execute_input": "2022-05-17T14:33:09.426520Z",
     "iopub.status.busy": "2022-05-17T14:33:09.426341Z",
     "iopub.status.idle": "2022-05-17T14:33:18.560445Z",
     "shell.execute_reply": "2022-05-17T14:33:18.559340Z",
     "shell.execute_reply.started": "2022-05-17T14:33:09.426497Z"
    },
    "scrolled": true,
    "tags": []
   },
   "outputs": [
    {
     "data": {
      "text/html": [
       "\n",
       "        <div>\n",
       "            <p><b>SparkContext</b></p>\n",
       "\n",
       "            <p><a href=\"http://jupyter-acossard.jhub.svc.cluster.local:4040\">Spark UI</a></p>\n",
       "\n",
       "            <dl>\n",
       "              <dt>Version</dt>\n",
       "                <dd><code>v3.2.1</code></dd>\n",
       "              <dt>Master</dt>\n",
       "                <dd><code>k8s://https://192.168.2.39:6443</code></dd>\n",
       "              <dt>AppName</dt>\n",
       "                <dd><code>jupyter-acossard</code></dd>\n",
       "            </dl>\n",
       "        </div>\n",
       "        "
      ],
      "text/plain": [
       "<SparkContext master=k8s://https://192.168.2.39:6443 appName=jupyter-acossard>"
      ]
     },
     "execution_count": 3,
     "metadata": {},
     "output_type": "execute_result"
    }
   ],
   "source": [
    "num_workers=5\n",
    "spark=%sc $num_workers\n",
    "\n",
    "from pyspark.sql import SparkSession\n",
    "spark_session = SparkSession(spark)\n",
    "\n",
    "#check if spark is there\n",
    "spark"
   ]
  },
  {
   "cell_type": "markdown",
   "metadata": {},
   "source": [
    "## Prepare the input data"
   ]
  },
  {
   "cell_type": "code",
   "execution_count": 4,
   "metadata": {
    "execution": {
     "iopub.execute_input": "2022-05-17T14:33:18.563122Z",
     "iopub.status.busy": "2022-05-17T14:33:18.562895Z",
     "iopub.status.idle": "2022-05-17T14:33:23.947964Z",
     "shell.execute_reply": "2022-05-17T14:33:23.946288Z",
     "shell.execute_reply.started": "2022-05-17T14:33:18.563095Z"
    },
    "tags": []
   },
   "outputs": [
    {
     "name": "stdout",
     "output_type": "stream",
     "text": [
      "CPU times: user 2.66 ms, sys: 4.46 ms, total: 7.11 ms\n",
      "Wall time: 5.38 s\n"
     ]
    }
   ],
   "source": [
    "#read input dataset from parquet\n",
    "\n",
    "inputFile = 'hdfs://192.168.2.39/data/Higgs10M.parquet' \n",
    "#inputFile = 'hdfs://192.168.2.39/data/Higgs100k.parquet' \n",
    "#other files are: Higgs1M.parquet, Higgs100k.parquet\n",
    "\n",
    "%time df = spark_session.read.format('parquet').option('header', 'true').option('inferschema', 'true').load(inputFile)"
   ]
  },
  {
   "cell_type": "code",
   "execution_count": 5,
   "metadata": {
    "execution": {
     "iopub.execute_input": "2022-05-17T14:33:23.950715Z",
     "iopub.status.busy": "2022-05-17T14:33:23.950136Z",
     "iopub.status.idle": "2022-05-17T14:33:28.417385Z",
     "shell.execute_reply": "2022-05-17T14:33:28.416276Z",
     "shell.execute_reply.started": "2022-05-17T14:33:23.950620Z"
    },
    "tags": []
   },
   "outputs": [
    {
     "name": "stdout",
     "output_type": "stream",
     "text": [
      "There are 9560096 events\n"
     ]
    }
   ],
   "source": [
    "total_events = df.count()\n",
    "\n",
    "print('There are '+str(total_events)+' events')"
   ]
  },
  {
   "cell_type": "markdown",
   "metadata": {},
   "source": [
    "#### QUESTION 1: is the dataset unbalanced? Do we need undersampling?"
   ]
  },
  {
   "cell_type": "code",
   "execution_count": 6,
   "metadata": {
    "execution": {
     "iopub.execute_input": "2022-05-17T08:37:17.305241Z",
     "iopub.status.busy": "2022-05-17T08:37:17.304618Z",
     "iopub.status.idle": "2022-05-17T08:37:17.311529Z",
     "shell.execute_reply": "2022-05-17T08:37:17.310228Z",
     "shell.execute_reply.started": "2022-05-17T08:37:17.305174Z"
    }
   },
   "outputs": [],
   "source": [
    "# motivate your answer here\n",
    "# see the answer in the cells below"
   ]
  },
  {
   "cell_type": "code",
   "execution_count": 6,
   "metadata": {
    "execution": {
     "iopub.execute_input": "2022-05-17T14:33:31.757182Z",
     "iopub.status.busy": "2022-05-17T14:33:31.756485Z",
     "iopub.status.idle": "2022-05-17T14:33:32.461222Z",
     "shell.execute_reply": "2022-05-17T14:33:32.460442Z",
     "shell.execute_reply.started": "2022-05-17T14:33:31.757120Z"
    },
    "tags": []
   },
   "outputs": [],
   "source": [
    "#I did this only to see the df in the pandas way which I am more used to\n",
    "panda = df.limit(10).toPandas()"
   ]
  },
  {
   "cell_type": "code",
   "execution_count": 7,
   "metadata": {
    "execution": {
     "iopub.execute_input": "2022-05-17T14:33:32.463195Z",
     "iopub.status.busy": "2022-05-17T14:33:32.462987Z",
     "iopub.status.idle": "2022-05-17T14:33:32.507386Z",
     "shell.execute_reply": "2022-05-17T14:33:32.506199Z",
     "shell.execute_reply.started": "2022-05-17T14:33:32.463169Z"
    },
    "tags": []
   },
   "outputs": [
    {
     "data": {
      "text/html": [
       "<div>\n",
       "<style scoped>\n",
       "    .dataframe tbody tr th:only-of-type {\n",
       "        vertical-align: middle;\n",
       "    }\n",
       "\n",
       "    .dataframe tbody tr th {\n",
       "        vertical-align: top;\n",
       "    }\n",
       "\n",
       "    .dataframe thead th {\n",
       "        text-align: right;\n",
       "    }\n",
       "</style>\n",
       "<table border=\"1\" class=\"dataframe\">\n",
       "  <thead>\n",
       "    <tr style=\"text-align: right;\">\n",
       "      <th></th>\n",
       "      <th>label</th>\n",
       "      <th>lepton_pT</th>\n",
       "      <th>lepton_eta</th>\n",
       "      <th>lepton_phi</th>\n",
       "      <th>missing_energy_magnitude</th>\n",
       "      <th>missing_energy_phi</th>\n",
       "      <th>jet1_pt</th>\n",
       "      <th>jet1_eta</th>\n",
       "      <th>jet1_phi</th>\n",
       "      <th>jet1_b-tag</th>\n",
       "      <th>...</th>\n",
       "      <th>je4_eta</th>\n",
       "      <th>jet4_phi</th>\n",
       "      <th>jet4_b-tag</th>\n",
       "      <th>m_jj</th>\n",
       "      <th>m_jjj</th>\n",
       "      <th>m_lv</th>\n",
       "      <th>m_jlv</th>\n",
       "      <th>m_bb</th>\n",
       "      <th>m_wbb</th>\n",
       "      <th>m_wwbb</th>\n",
       "    </tr>\n",
       "  </thead>\n",
       "  <tbody>\n",
       "    <tr>\n",
       "      <th>0</th>\n",
       "      <td>1.0</td>\n",
       "      <td>1.194134</td>\n",
       "      <td>0.169416</td>\n",
       "      <td>0.840477</td>\n",
       "      <td>0.635367</td>\n",
       "      <td>-0.774299</td>\n",
       "      <td>0.591966</td>\n",
       "      <td>1.180329</td>\n",
       "      <td>-0.611975</td>\n",
       "      <td>0.000000</td>\n",
       "      <td>...</td>\n",
       "      <td>1.761793</td>\n",
       "      <td>-1.561790</td>\n",
       "      <td>0.000000</td>\n",
       "      <td>0.798830</td>\n",
       "      <td>0.712128</td>\n",
       "      <td>1.198602</td>\n",
       "      <td>0.759438</td>\n",
       "      <td>0.684867</td>\n",
       "      <td>0.825651</td>\n",
       "      <td>0.755802</td>\n",
       "    </tr>\n",
       "    <tr>\n",
       "      <th>1</th>\n",
       "      <td>1.0</td>\n",
       "      <td>1.283992</td>\n",
       "      <td>0.731396</td>\n",
       "      <td>1.005270</td>\n",
       "      <td>1.207458</td>\n",
       "      <td>0.694363</td>\n",
       "      <td>1.195108</td>\n",
       "      <td>0.295063</td>\n",
       "      <td>-0.517728</td>\n",
       "      <td>2.173076</td>\n",
       "      <td>...</td>\n",
       "      <td>-0.130381</td>\n",
       "      <td>-0.917536</td>\n",
       "      <td>0.000000</td>\n",
       "      <td>0.314012</td>\n",
       "      <td>0.639129</td>\n",
       "      <td>0.975548</td>\n",
       "      <td>0.817030</td>\n",
       "      <td>0.955889</td>\n",
       "      <td>0.979370</td>\n",
       "      <td>0.790856</td>\n",
       "    </tr>\n",
       "    <tr>\n",
       "      <th>2</th>\n",
       "      <td>0.0</td>\n",
       "      <td>0.571171</td>\n",
       "      <td>-0.409121</td>\n",
       "      <td>-1.071681</td>\n",
       "      <td>0.681941</td>\n",
       "      <td>-0.650838</td>\n",
       "      <td>1.416889</td>\n",
       "      <td>1.417984</td>\n",
       "      <td>-0.894152</td>\n",
       "      <td>0.000000</td>\n",
       "      <td>...</td>\n",
       "      <td>0.323508</td>\n",
       "      <td>1.470911</td>\n",
       "      <td>0.000000</td>\n",
       "      <td>0.977863</td>\n",
       "      <td>0.921440</td>\n",
       "      <td>0.985130</td>\n",
       "      <td>0.958565</td>\n",
       "      <td>1.107009</td>\n",
       "      <td>0.982282</td>\n",
       "      <td>0.865807</td>\n",
       "    </tr>\n",
       "    <tr>\n",
       "      <th>3</th>\n",
       "      <td>1.0</td>\n",
       "      <td>0.794076</td>\n",
       "      <td>-0.558138</td>\n",
       "      <td>0.916493</td>\n",
       "      <td>1.304152</td>\n",
       "      <td>-0.624031</td>\n",
       "      <td>1.316029</td>\n",
       "      <td>-1.145721</td>\n",
       "      <td>1.421579</td>\n",
       "      <td>0.000000</td>\n",
       "      <td>...</td>\n",
       "      <td>-0.113725</td>\n",
       "      <td>0.404369</td>\n",
       "      <td>0.000000</td>\n",
       "      <td>1.032961</td>\n",
       "      <td>0.941942</td>\n",
       "      <td>1.386236</td>\n",
       "      <td>1.301317</td>\n",
       "      <td>0.858163</td>\n",
       "      <td>0.956550</td>\n",
       "      <td>0.868230</td>\n",
       "    </tr>\n",
       "    <tr>\n",
       "      <th>4</th>\n",
       "      <td>0.0</td>\n",
       "      <td>0.486072</td>\n",
       "      <td>-0.537685</td>\n",
       "      <td>1.656677</td>\n",
       "      <td>1.045107</td>\n",
       "      <td>-0.005942</td>\n",
       "      <td>0.787914</td>\n",
       "      <td>-0.427805</td>\n",
       "      <td>-1.144730</td>\n",
       "      <td>2.173076</td>\n",
       "      <td>...</td>\n",
       "      <td>-1.293002</td>\n",
       "      <td>-1.673882</td>\n",
       "      <td>0.000000</td>\n",
       "      <td>0.502346</td>\n",
       "      <td>0.908607</td>\n",
       "      <td>0.987460</td>\n",
       "      <td>0.814304</td>\n",
       "      <td>1.305329</td>\n",
       "      <td>0.781702</td>\n",
       "      <td>0.689935</td>\n",
       "    </tr>\n",
       "    <tr>\n",
       "      <th>5</th>\n",
       "      <td>0.0</td>\n",
       "      <td>2.013466</td>\n",
       "      <td>0.025269</td>\n",
       "      <td>0.024830</td>\n",
       "      <td>0.794762</td>\n",
       "      <td>0.437074</td>\n",
       "      <td>1.346901</td>\n",
       "      <td>0.171284</td>\n",
       "      <td>-1.480681</td>\n",
       "      <td>2.173076</td>\n",
       "      <td>...</td>\n",
       "      <td>-0.764160</td>\n",
       "      <td>1.179582</td>\n",
       "      <td>3.101961</td>\n",
       "      <td>0.965795</td>\n",
       "      <td>1.176070</td>\n",
       "      <td>0.979901</td>\n",
       "      <td>0.760852</td>\n",
       "      <td>0.947435</td>\n",
       "      <td>1.080995</td>\n",
       "      <td>0.907347</td>\n",
       "    </tr>\n",
       "    <tr>\n",
       "      <th>6</th>\n",
       "      <td>1.0</td>\n",
       "      <td>1.679840</td>\n",
       "      <td>0.981706</td>\n",
       "      <td>-0.833645</td>\n",
       "      <td>0.207592</td>\n",
       "      <td>1.047030</td>\n",
       "      <td>0.971586</td>\n",
       "      <td>0.456471</td>\n",
       "      <td>0.914880</td>\n",
       "      <td>2.173076</td>\n",
       "      <td>...</td>\n",
       "      <td>-1.584491</td>\n",
       "      <td>0.376624</td>\n",
       "      <td>0.000000</td>\n",
       "      <td>0.912182</td>\n",
       "      <td>0.849254</td>\n",
       "      <td>0.989618</td>\n",
       "      <td>1.192563</td>\n",
       "      <td>0.802145</td>\n",
       "      <td>0.867156</td>\n",
       "      <td>0.759357</td>\n",
       "    </tr>\n",
       "    <tr>\n",
       "      <th>7</th>\n",
       "      <td>1.0</td>\n",
       "      <td>0.891986</td>\n",
       "      <td>-1.199010</td>\n",
       "      <td>0.956997</td>\n",
       "      <td>1.361062</td>\n",
       "      <td>0.734834</td>\n",
       "      <td>0.476266</td>\n",
       "      <td>-1.648758</td>\n",
       "      <td>-1.610405</td>\n",
       "      <td>0.000000</td>\n",
       "      <td>...</td>\n",
       "      <td>-1.380449</td>\n",
       "      <td>-0.524656</td>\n",
       "      <td>0.000000</td>\n",
       "      <td>0.986707</td>\n",
       "      <td>0.822986</td>\n",
       "      <td>0.991255</td>\n",
       "      <td>0.969702</td>\n",
       "      <td>0.723257</td>\n",
       "      <td>1.158721</td>\n",
       "      <td>1.000757</td>\n",
       "    </tr>\n",
       "    <tr>\n",
       "      <th>8</th>\n",
       "      <td>1.0</td>\n",
       "      <td>0.945059</td>\n",
       "      <td>-0.509440</td>\n",
       "      <td>1.388125</td>\n",
       "      <td>0.749162</td>\n",
       "      <td>-0.870459</td>\n",
       "      <td>0.767302</td>\n",
       "      <td>-1.242764</td>\n",
       "      <td>-1.504519</td>\n",
       "      <td>2.173076</td>\n",
       "      <td>...</td>\n",
       "      <td>0.292693</td>\n",
       "      <td>-0.031339</td>\n",
       "      <td>3.101961</td>\n",
       "      <td>0.574387</td>\n",
       "      <td>1.095291</td>\n",
       "      <td>1.042732</td>\n",
       "      <td>0.596038</td>\n",
       "      <td>0.814329</td>\n",
       "      <td>0.680044</td>\n",
       "      <td>0.644025</td>\n",
       "    </tr>\n",
       "    <tr>\n",
       "      <th>9</th>\n",
       "      <td>1.0</td>\n",
       "      <td>0.541890</td>\n",
       "      <td>-2.069738</td>\n",
       "      <td>1.359272</td>\n",
       "      <td>0.447037</td>\n",
       "      <td>-0.079829</td>\n",
       "      <td>1.183199</td>\n",
       "      <td>-1.067493</td>\n",
       "      <td>0.657650</td>\n",
       "      <td>2.173076</td>\n",
       "      <td>...</td>\n",
       "      <td>-2.128324</td>\n",
       "      <td>-0.861490</td>\n",
       "      <td>0.000000</td>\n",
       "      <td>0.874763</td>\n",
       "      <td>0.640899</td>\n",
       "      <td>0.986907</td>\n",
       "      <td>0.792481</td>\n",
       "      <td>0.948588</td>\n",
       "      <td>0.942737</td>\n",
       "      <td>0.811832</td>\n",
       "    </tr>\n",
       "  </tbody>\n",
       "</table>\n",
       "<p>10 rows × 29 columns</p>\n",
       "</div>"
      ],
      "text/plain": [
       "   label  lepton_pT  lepton_eta  lepton_phi  missing_energy_magnitude  \\\n",
       "0    1.0   1.194134    0.169416    0.840477                  0.635367   \n",
       "1    1.0   1.283992    0.731396    1.005270                  1.207458   \n",
       "2    0.0   0.571171   -0.409121   -1.071681                  0.681941   \n",
       "3    1.0   0.794076   -0.558138    0.916493                  1.304152   \n",
       "4    0.0   0.486072   -0.537685    1.656677                  1.045107   \n",
       "5    0.0   2.013466    0.025269    0.024830                  0.794762   \n",
       "6    1.0   1.679840    0.981706   -0.833645                  0.207592   \n",
       "7    1.0   0.891986   -1.199010    0.956997                  1.361062   \n",
       "8    1.0   0.945059   -0.509440    1.388125                  0.749162   \n",
       "9    1.0   0.541890   -2.069738    1.359272                  0.447037   \n",
       "\n",
       "   missing_energy_phi   jet1_pt  jet1_eta  jet1_phi  jet1_b-tag  ...  \\\n",
       "0           -0.774299  0.591966  1.180329 -0.611975    0.000000  ...   \n",
       "1            0.694363  1.195108  0.295063 -0.517728    2.173076  ...   \n",
       "2           -0.650838  1.416889  1.417984 -0.894152    0.000000  ...   \n",
       "3           -0.624031  1.316029 -1.145721  1.421579    0.000000  ...   \n",
       "4           -0.005942  0.787914 -0.427805 -1.144730    2.173076  ...   \n",
       "5            0.437074  1.346901  0.171284 -1.480681    2.173076  ...   \n",
       "6            1.047030  0.971586  0.456471  0.914880    2.173076  ...   \n",
       "7            0.734834  0.476266 -1.648758 -1.610405    0.000000  ...   \n",
       "8           -0.870459  0.767302 -1.242764 -1.504519    2.173076  ...   \n",
       "9           -0.079829  1.183199 -1.067493  0.657650    2.173076  ...   \n",
       "\n",
       "    je4_eta  jet4_phi  jet4_b-tag      m_jj     m_jjj      m_lv     m_jlv  \\\n",
       "0  1.761793 -1.561790    0.000000  0.798830  0.712128  1.198602  0.759438   \n",
       "1 -0.130381 -0.917536    0.000000  0.314012  0.639129  0.975548  0.817030   \n",
       "2  0.323508  1.470911    0.000000  0.977863  0.921440  0.985130  0.958565   \n",
       "3 -0.113725  0.404369    0.000000  1.032961  0.941942  1.386236  1.301317   \n",
       "4 -1.293002 -1.673882    0.000000  0.502346  0.908607  0.987460  0.814304   \n",
       "5 -0.764160  1.179582    3.101961  0.965795  1.176070  0.979901  0.760852   \n",
       "6 -1.584491  0.376624    0.000000  0.912182  0.849254  0.989618  1.192563   \n",
       "7 -1.380449 -0.524656    0.000000  0.986707  0.822986  0.991255  0.969702   \n",
       "8  0.292693 -0.031339    3.101961  0.574387  1.095291  1.042732  0.596038   \n",
       "9 -2.128324 -0.861490    0.000000  0.874763  0.640899  0.986907  0.792481   \n",
       "\n",
       "       m_bb     m_wbb    m_wwbb  \n",
       "0  0.684867  0.825651  0.755802  \n",
       "1  0.955889  0.979370  0.790856  \n",
       "2  1.107009  0.982282  0.865807  \n",
       "3  0.858163  0.956550  0.868230  \n",
       "4  1.305329  0.781702  0.689935  \n",
       "5  0.947435  1.080995  0.907347  \n",
       "6  0.802145  0.867156  0.759357  \n",
       "7  0.723257  1.158721  1.000757  \n",
       "8  0.814329  0.680044  0.644025  \n",
       "9  0.948588  0.942737  0.811832  \n",
       "\n",
       "[10 rows x 29 columns]"
      ]
     },
     "execution_count": 7,
     "metadata": {},
     "output_type": "execute_result"
    }
   ],
   "source": [
    "panda"
   ]
  },
  {
   "cell_type": "code",
   "execution_count": 8,
   "metadata": {
    "execution": {
     "iopub.execute_input": "2022-05-17T14:33:33.117901Z",
     "iopub.status.busy": "2022-05-17T14:33:33.116467Z",
     "iopub.status.idle": "2022-05-17T14:33:33.270462Z",
     "shell.execute_reply": "2022-05-17T14:33:33.268971Z",
     "shell.execute_reply.started": "2022-05-17T14:33:33.117788Z"
    },
    "tags": []
   },
   "outputs": [],
   "source": [
    "df_0 = df.filter(df[\"label\"]==0)"
   ]
  },
  {
   "cell_type": "code",
   "execution_count": 9,
   "metadata": {
    "execution": {
     "iopub.execute_input": "2022-05-17T14:33:33.492458Z",
     "iopub.status.busy": "2022-05-17T14:33:33.491084Z",
     "iopub.status.idle": "2022-05-17T14:33:33.520778Z",
     "shell.execute_reply": "2022-05-17T14:33:33.519624Z",
     "shell.execute_reply.started": "2022-05-17T14:33:33.492385Z"
    },
    "tags": []
   },
   "outputs": [],
   "source": [
    "df_1 = df.filter(df[\"label\"]==1)"
   ]
  },
  {
   "cell_type": "code",
   "execution_count": 10,
   "metadata": {
    "execution": {
     "iopub.execute_input": "2022-05-17T14:33:33.836142Z",
     "iopub.status.busy": "2022-05-17T14:33:33.835532Z",
     "iopub.status.idle": "2022-05-17T14:33:36.609916Z",
     "shell.execute_reply": "2022-05-17T14:33:36.608295Z",
     "shell.execute_reply.started": "2022-05-17T14:33:33.836074Z"
    },
    "tags": []
   },
   "outputs": [
    {
     "name": "stdout",
     "output_type": "stream",
     "text": [
      "#0 events 4494163 \n",
      "#1 events 5065933\n"
     ]
    }
   ],
   "source": [
    "print('#0 events '+str(df_0.count()), '\\n#1 events ' + str((df_1.count())))"
   ]
  },
  {
   "cell_type": "markdown",
   "metadata": {},
   "source": [
    "The dataset it's quite balanced!"
   ]
  },
  {
   "cell_type": "code",
   "execution_count": 11,
   "metadata": {
    "execution": {
     "iopub.execute_input": "2022-05-17T14:33:39.964293Z",
     "iopub.status.busy": "2022-05-17T14:33:39.963539Z",
     "iopub.status.idle": "2022-05-17T14:33:53.706255Z",
     "shell.execute_reply": "2022-05-17T14:33:53.705442Z",
     "shell.execute_reply.started": "2022-05-17T14:33:39.964226Z"
    },
    "tags": []
   },
   "outputs": [
    {
     "data": {
      "image/png": "[encoded data removed]",
      "text/plain": [
       "<Figure size 432x288 with 1 Axes>"
      ]
     },
     "metadata": {
      "needs_background": "light"
     },
     "output_type": "display_data"
    }
   ],
   "source": [
    "#plot invariant mass distribution \n",
    "plotSignalvsBg(df, 'm_bb')"
   ]
  },
  {
   "cell_type": "markdown",
   "metadata": {},
   "source": [
    "#### QUESTION 2: Split the dataset into 5 parts with random events"
   ]
  },
  {
   "cell_type": "code",
   "execution_count": 12,
   "metadata": {
    "execution": {
     "iopub.execute_input": "2022-05-17T14:33:53.708023Z",
     "iopub.status.busy": "2022-05-17T14:33:53.707818Z",
     "iopub.status.idle": "2022-05-17T14:33:54.752722Z",
     "shell.execute_reply": "2022-05-17T14:33:54.751077Z",
     "shell.execute_reply.started": "2022-05-17T14:33:53.707998Z"
    },
    "tags": []
   },
   "outputs": [],
   "source": [
    "shuffled = df.sample(False, fraction=0.1)\n",
    "n = 5\n",
    "rows = shuffled.count() // n\n",
    "copy_df = shuffled\n",
    "i = 0\n",
    "\n",
    "while i < n:\n",
    "    temp_df = copy_df.limit(rows)\n",
    "    copy_df = copy_df.subtract(temp_df)\n",
    "    i += 1"
   ]
  },
  {
   "cell_type": "markdown",
   "metadata": {},
   "source": [
    "#### QUESTION 3: split the dataset for training and test"
   ]
  },
  {
   "cell_type": "code",
   "execution_count": 13,
   "metadata": {
    "execution": {
     "iopub.execute_input": "2022-05-17T14:33:57.479800Z",
     "iopub.status.busy": "2022-05-17T14:33:57.479442Z",
     "iopub.status.idle": "2022-05-17T14:33:57.512194Z",
     "shell.execute_reply": "2022-05-17T14:33:57.510973Z",
     "shell.execute_reply.started": "2022-05-17T14:33:57.479765Z"
    },
    "tags": []
   },
   "outputs": [],
   "source": [
    "# split into two dataframes called training and test\n",
    "train, test = df.randomSplit([0.8,0.2])"
   ]
  },
  {
   "cell_type": "markdown",
   "metadata": {},
   "source": [
    "#### Create the input feature vector\n",
    "\n",
    "Documentation on how to do data preprocessing in Spark: https://spark.apache.org/docs/latest/ml-features.html"
   ]
  },
  {
   "cell_type": "code",
   "execution_count": 15,
   "metadata": {
    "execution": {
     "iopub.execute_input": "2022-05-17T14:34:06.524198Z",
     "iopub.status.busy": "2022-05-17T14:34:06.523563Z",
     "iopub.status.idle": "2022-05-17T14:34:06.765880Z",
     "shell.execute_reply": "2022-05-17T14:34:06.764234Z",
     "shell.execute_reply.started": "2022-05-17T14:34:06.524130Z"
    },
    "tags": []
   },
   "outputs": [],
   "source": [
    "feature = train.columns\n",
    "feature.remove('label')\n",
    "\n",
    "# VectorAssembler is a transformer that combines a given list of columns into a single vector column\n",
    "from pyspark.ml.feature import VectorAssembler\n",
    "assembler = VectorAssembler(inputCols=feature, outputCol='features')\n",
    "\n",
    "train = assembler.transform(train)\n",
    "test = assembler.transform(test)"
   ]
  },
  {
   "cell_type": "markdown",
   "metadata": {},
   "source": [
    "## ML with pyspark\n",
    "\n",
    "Try to solve the signal vs background classification problem using a new algorithm of your choice (obviously, not GBT or MCP)\n",
    "Documentation at: https://spark.apache.org/docs/2.2.0/ml-classification-regression.html"
   ]
  },
  {
   "cell_type": "code",
   "execution_count": 17,
   "metadata": {
    "execution": {
     "iopub.execute_input": "2022-05-17T14:34:15.536378Z",
     "iopub.status.busy": "2022-05-17T14:34:15.535584Z",
     "iopub.status.idle": "2022-05-17T14:34:15.543638Z",
     "shell.execute_reply": "2022-05-17T14:34:15.542215Z",
     "shell.execute_reply.started": "2022-05-17T14:34:15.536310Z"
    },
    "tags": []
   },
   "outputs": [],
   "source": [
    "from pyspark.ml.classification import *"
   ]
  },
  {
   "cell_type": "markdown",
   "metadata": {},
   "source": [
    "Let's fit the model on the **training dataset**:"
   ]
  },
  {
   "cell_type": "code",
   "execution_count": 18,
   "metadata": {
    "execution": {
     "iopub.execute_input": "2022-05-17T14:34:16.281617Z",
     "iopub.status.busy": "2022-05-17T14:34:16.280873Z",
     "iopub.status.idle": "2022-05-17T14:34:43.275690Z",
     "shell.execute_reply": "2022-05-17T14:34:43.274656Z",
     "shell.execute_reply.started": "2022-05-17T14:34:16.281551Z"
    },
    "tags": []
   },
   "outputs": [
    {
     "name": "stdout",
     "output_type": "stream",
     "text": [
      "Coefficients: [-0.28476168904228566,0.0004476648598721379,0.0014383648913086377,-0.4451201758533301,-0.0005475824710381052,0.4502377311702288,-0.00019850525420064252,0.0008477783111735648,0.061856457713410286,0.09409855155050531,-0.0006070054894730885,-0.00043280164771593424,-0.06175201418525403,0.05985813101560631,-0.0008842584391938383,0.0005449470282169233,-0.051847301709235974,0.1178679743296776,-0.0009777643807202545,0.0010276465691705546,-0.024481829201789998,-0.003498532006534431,0.468439269671473,0.6089562758832174,0.3084840106859452,-0.8201540633102364,0.09897063819285568,-1.2415885132366107]\n",
      "Intercept: 0.9659587252312927\n"
     ]
    }
   ],
   "source": [
    "from pyspark.ml.classification import LinearSVC\n",
    "\n",
    "lsvc = LinearSVC(labelCol='label', featuresCol='features', maxIter=10, regParam=0.1)\n",
    "\n",
    "\n",
    "lsvcModel = lsvc.fit(train)\n",
    "\n",
    "\n",
    "print(\"Coefficients: \" + str(lsvcModel.coefficients))\n",
    "print(\"Intercept: \" + str(lsvcModel.intercept))"
   ]
  },
  {
   "cell_type": "markdown",
   "metadata": {},
   "source": [
    "#### QUESTION 4: Compute the accuracy on the test dataset"
   ]
  },
  {
   "cell_type": "code",
   "execution_count": 19,
   "metadata": {
    "execution": {
     "iopub.execute_input": "2022-05-17T14:35:13.902433Z",
     "iopub.status.busy": "2022-05-17T14:35:13.901801Z",
     "iopub.status.idle": "2022-05-17T14:35:30.035654Z",
     "shell.execute_reply": "2022-05-17T14:35:30.034055Z",
     "shell.execute_reply.started": "2022-05-17T14:35:13.902316Z"
    },
    "tags": []
   },
   "outputs": [
    {
     "name": "stdout",
     "output_type": "stream",
     "text": [
      "Test set AUC = 0.6585533635427844\n"
     ]
    }
   ],
   "source": [
    "result = lsvcModel.transform(test)\n",
    "\n",
    "from pyspark.ml.evaluation import BinaryClassificationEvaluator\n",
    "evaluator = BinaryClassificationEvaluator(labelCol='label', metricName=\"areaUnderROC\")\n",
    "print(\"Test set AUC = \" + str(evaluator.evaluate(result)))\n"
   ]
  },
  {
   "cell_type": "code",
   "execution_count": 20,
   "metadata": {
    "execution": {
     "iopub.execute_input": "2022-05-17T14:35:32.007363Z",
     "iopub.status.busy": "2022-05-17T14:35:32.006612Z",
     "iopub.status.idle": "2022-05-17T14:36:37.583684Z",
     "shell.execute_reply": "2022-05-17T14:36:37.582785Z",
     "shell.execute_reply.started": "2022-05-17T14:35:32.007292Z"
    },
    "tags": []
   },
   "outputs": [
    {
     "name": "stdout",
     "output_type": "stream",
     "text": [
      "AUC: 0.659\n",
      "+-----+----------+------+\n",
      "|label|prediction| count|\n",
      "+-----+----------+------+\n",
      "|  1.0|       1.0|916022|\n",
      "|  0.0|       1.0|645236|\n",
      "|  1.0|       0.0| 96619|\n",
      "|  0.0|       0.0|253423|\n",
      "+-----+----------+------+\n",
      "\n",
      "n precision: 0.587\n",
      "n recall: 0.905\n",
      "n accuracy: 0.612\n",
      "n F1 score: 0.712\n"
     ]
    }
   ],
   "source": [
    "printMetrics(evaluator, result)"
   ]
  },
  {
   "cell_type": "markdown",
   "metadata": {},
   "source": [
    "#### QUESTION 5: Are we over/under-fitting the data? How could the accuracy be improved?"
   ]
  },
  {
   "cell_type": "code",
   "execution_count": 22,
   "metadata": {
    "execution": {
     "iopub.execute_input": "2022-05-17T14:37:22.997805Z",
     "iopub.status.busy": "2022-05-17T14:37:22.997056Z",
     "iopub.status.idle": "2022-05-17T14:37:23.005626Z",
     "shell.execute_reply": "2022-05-17T14:37:23.003742Z",
     "shell.execute_reply.started": "2022-05-17T14:37:22.997735Z"
    },
    "tags": []
   },
   "outputs": [],
   "source": [
    "tot = 916022 + 645236 + 96619 + 253423"
   ]
  },
  {
   "cell_type": "code",
   "execution_count": 21,
   "metadata": {
    "execution": {
     "iopub.execute_input": "2022-05-17T14:37:20.417148Z",
     "iopub.status.busy": "2022-05-17T14:37:20.416452Z",
     "iopub.status.idle": "2022-05-17T14:37:20.424811Z",
     "shell.execute_reply": "2022-05-17T14:37:20.423240Z",
     "shell.execute_reply.started": "2022-05-17T14:37:20.417048Z"
    },
    "tags": []
   },
   "outputs": [],
   "source": [
    "cf_mat = [[253423,96619],[645236,916022]]"
   ]
  },
  {
   "cell_type": "code",
   "execution_count": 23,
   "metadata": {
    "execution": {
     "iopub.execute_input": "2022-05-17T14:37:27.985966Z",
     "iopub.status.busy": "2022-05-17T14:37:27.985478Z",
     "iopub.status.idle": "2022-05-17T14:37:27.994039Z",
     "shell.execute_reply": "2022-05-17T14:37:27.992362Z",
     "shell.execute_reply.started": "2022-05-17T14:37:27.985936Z"
    },
    "tags": []
   },
   "outputs": [],
   "source": [
    "cf_mat = [[(253423/tot)*100,(96619/tot)*100],[(645236/tot)*100,(916022/tot)*100]]"
   ]
  },
  {
   "cell_type": "code",
   "execution_count": 24,
   "metadata": {
    "execution": {
     "iopub.execute_input": "2022-05-17T14:37:28.320951Z",
     "iopub.status.busy": "2022-05-17T14:37:28.320455Z",
     "iopub.status.idle": "2022-05-17T14:37:28.333578Z",
     "shell.execute_reply": "2022-05-17T14:37:28.332943Z",
     "shell.execute_reply.started": "2022-05-17T14:37:28.320896Z"
    },
    "tags": []
   },
   "outputs": [
    {
     "data": {
      "text/plain": [
       "[[13.259195312091245, 5.055145712342385],\n",
       " [33.759012190655575, 47.926646784910794]]"
      ]
     },
     "execution_count": 24,
     "metadata": {},
     "output_type": "execute_result"
    }
   ],
   "source": [
    "cf_mat"
   ]
  },
  {
   "cell_type": "code",
   "execution_count": 25,
   "metadata": {
    "execution": {
     "iopub.execute_input": "2022-05-17T14:37:29.579051Z",
     "iopub.status.busy": "2022-05-17T14:37:29.578331Z",
     "iopub.status.idle": "2022-05-17T14:37:29.589714Z",
     "shell.execute_reply": "2022-05-17T14:37:29.588143Z",
     "shell.execute_reply.started": "2022-05-17T14:37:29.578984Z"
    },
    "tags": []
   },
   "outputs": [
    {
     "name": "stdout",
     "output_type": "stream",
     "text": [
      "18.31434102443363 47.01820750274682 0.38951593429765907\n"
     ]
    }
   ],
   "source": [
    "#class 0\n",
    "predicted_0 = (cf_mat[0][0] + cf_mat[0][1]) \n",
    "label_0 = (cf_mat[0][0] + cf_mat[1][0])\n",
    "ratio_0 = predicted_0 / label_0\n",
    "\n",
    "print(predicted_0,label_0,ratio_0)"
   ]
  },
  {
   "cell_type": "code",
   "execution_count": 26,
   "metadata": {
    "execution": {
     "iopub.execute_input": "2022-05-17T14:37:30.545140Z",
     "iopub.status.busy": "2022-05-17T14:37:30.544430Z",
     "iopub.status.idle": "2022-05-17T14:37:30.558545Z",
     "shell.execute_reply": "2022-05-17T14:37:30.557221Z",
     "shell.execute_reply.started": "2022-05-17T14:37:30.545072Z"
    },
    "tags": []
   },
   "outputs": [
    {
     "name": "stdout",
     "output_type": "stream",
     "text": [
      "81.68565897556637 52.98179249725318 1.54176850433668\n"
     ]
    }
   ],
   "source": [
    "#class 1\n",
    "label_1 = (cf_mat[0][1] + cf_mat[1][1]) \n",
    "predicted_1 = (cf_mat[1][0] + cf_mat[1][1])\n",
    "ratio_1 = predicted_1 / label_1\n",
    "\n",
    "print(predicted_1,label_1,ratio_1)"
   ]
  },
  {
   "cell_type": "code",
   "execution_count": 27,
   "metadata": {
    "execution": {
     "iopub.execute_input": "2022-05-17T14:37:31.323897Z",
     "iopub.status.busy": "2022-05-17T14:37:31.323184Z",
     "iopub.status.idle": "2022-05-17T14:39:19.931692Z",
     "shell.execute_reply": "2022-05-17T14:39:19.929964Z",
     "shell.execute_reply.started": "2022-05-17T14:37:31.323823Z"
    },
    "tags": []
   },
   "outputs": [
    {
     "data": {
      "image/png": "[encoded data removed]",
      "text/plain": [
       "<Figure size 432x288 with 1 Axes>"
      ]
     },
     "metadata": {
      "needs_background": "light"
     },
     "output_type": "display_data"
    }
   ],
   "source": [
    "plotSignalvsBgWithPrediction(test, result, 'm_bb')"
   ]
  },
  {
   "cell_type": "markdown",
   "metadata": {},
   "source": [
    "For the 0 class I have a 18% of prediction against the 47% of actual labels while for the class 1 I have a 81% of prediction against the 52% of the training set labels. I am underfitting and this is caused by false negative of the 0 class."
   ]
  },
  {
   "cell_type": "markdown",
   "metadata": {},
   "source": [
    "#### Hyperparameter tuning\n",
    "\n",
    "We use the *spark_sklearn.grid_search* method."
   ]
  },
  {
   "cell_type": "code",
   "execution_count": 28,
   "metadata": {
    "execution": {
     "iopub.execute_input": "2022-05-17T14:40:06.807575Z",
     "iopub.status.busy": "2022-05-17T14:40:06.806961Z",
     "iopub.status.idle": "2022-05-17T14:40:17.290026Z",
     "shell.execute_reply": "2022-05-17T14:40:17.289190Z",
     "shell.execute_reply.started": "2022-05-17T14:40:06.807496Z"
    },
    "tags": []
   },
   "outputs": [
    {
     "name": "stdout",
     "output_type": "stream",
     "text": [
      "We will use 764611  events for the grid search.\n"
     ]
    }
   ],
   "source": [
    "subSample = train.sample(fraction=1.0/10, withReplacement=False).cache()\n",
    "print('We will use',subSample.count(),' events for the grid search.')\n",
    "\n",
    "from pyspark.ml.tuning import ParamGridBuilder, CrossValidator, TrainValidationSplit\n",
    "from pyspark.ml.evaluation import BinaryClassificationEvaluator\n",
    "\n",
    "evaluator=BinaryClassificationEvaluator(metricName='areaUnderROC')"
   ]
  },
  {
   "cell_type": "code",
   "execution_count": 29,
   "metadata": {
    "execution": {
     "iopub.execute_input": "2022-05-17T14:40:17.291985Z",
     "iopub.status.busy": "2022-05-17T14:40:17.291790Z",
     "iopub.status.idle": "2022-05-17T14:40:17.299859Z",
     "shell.execute_reply": "2022-05-17T14:40:17.298576Z",
     "shell.execute_reply.started": "2022-05-17T14:40:17.291962Z"
    },
    "tags": []
   },
   "outputs": [],
   "source": [
    "lsvc = LinearSVC(labelCol='label', featuresCol='features', maxIter=10, regParam=0.1)"
   ]
  },
  {
   "cell_type": "code",
   "execution_count": 30,
   "metadata": {
    "execution": {
     "iopub.execute_input": "2022-05-17T14:40:17.300916Z",
     "iopub.status.busy": "2022-05-17T14:40:17.300742Z",
     "iopub.status.idle": "2022-05-17T14:40:17.357624Z",
     "shell.execute_reply": "2022-05-17T14:40:17.356780Z",
     "shell.execute_reply.started": "2022-05-17T14:40:17.300895Z"
    },
    "tags": []
   },
   "outputs": [],
   "source": [
    "#Do hyperparameter tuning \n",
    "from pyspark.ml.tuning import ParamGridBuilder, CrossValidator, TrainValidationSplit\n",
    "from pyspark.ml.evaluation import BinaryClassificationEvaluator\n",
    "\n",
    "lsvc = LinearSVC(labelCol='label', featuresCol='features', maxIter=10, regParam=0.1)\n",
    "\n",
    "evaluator=BinaryClassificationEvaluator(metricName='areaUnderROC')"
   ]
  },
  {
   "cell_type": "markdown",
   "metadata": {
    "execution": {
     "iopub.execute_input": "2022-05-16T09:14:05.420965Z",
     "iopub.status.busy": "2022-05-16T09:14:05.420235Z",
     "iopub.status.idle": "2022-05-16T09:14:05.430744Z",
     "shell.execute_reply": "2022-05-16T09:14:05.429182Z",
     "shell.execute_reply.started": "2022-05-16T09:14:05.420897Z"
    }
   },
   "source": [
    "##### QUESTION 6: Compare n k-cross validator vs TrainValidation split methods "
   ]
  },
  {
   "cell_type": "code",
   "execution_count": 31,
   "metadata": {
    "execution": {
     "iopub.execute_input": "2022-05-17T14:40:24.598976Z",
     "iopub.status.busy": "2022-05-17T14:40:24.598177Z",
     "iopub.status.idle": "2022-05-17T14:40:24.607308Z",
     "shell.execute_reply": "2022-05-17T14:40:24.605433Z",
     "shell.execute_reply.started": "2022-05-17T14:40:24.598906Z"
    },
    "tags": []
   },
   "outputs": [],
   "source": [
    "paramGrid = ParamGridBuilder()\\\n",
    "  .addGrid(lsvc.maxIter, [0,2000])\\\n",
    "  .build()"
   ]
  },
  {
   "cell_type": "code",
   "execution_count": 32,
   "metadata": {
    "execution": {
     "iopub.execute_input": "2022-05-17T14:40:24.999761Z",
     "iopub.status.busy": "2022-05-17T14:40:24.999386Z",
     "iopub.status.idle": "2022-05-17T14:40:25.006836Z",
     "shell.execute_reply": "2022-05-17T14:40:25.005773Z",
     "shell.execute_reply.started": "2022-05-17T14:40:24.999720Z"
    },
    "tags": []
   },
   "outputs": [],
   "source": [
    "#take care, might take long time, \n",
    "cv = CrossValidator(estimator=lsvc, \n",
    "                    evaluator=evaluator,\n",
    "                    estimatorParamMaps=paramGrid,\n",
    "                    numFolds=10, parallelism=num_workers) "
   ]
  },
  {
   "cell_type": "code",
   "execution_count": 33,
   "metadata": {
    "execution": {
     "iopub.execute_input": "2022-05-17T14:40:25.394948Z",
     "iopub.status.busy": "2022-05-17T14:40:25.394244Z",
     "iopub.status.idle": "2022-05-17T14:42:17.471407Z",
     "shell.execute_reply": "2022-05-17T14:42:17.469958Z",
     "shell.execute_reply.started": "2022-05-17T14:40:25.394881Z"
    },
    "tags": []
   },
   "outputs": [
    {
     "name": "stdout",
     "output_type": "stream",
     "text": [
      "CPU times: user 815 ms, sys: 341 ms, total: 1.16 s\n",
      "Wall time: 1min 52s\n"
     ]
    }
   ],
   "source": [
    "%time bm = cv.fit(subSample)"
   ]
  },
  {
   "cell_type": "code",
   "execution_count": 34,
   "metadata": {
    "execution": {
     "iopub.execute_input": "2022-05-17T14:42:17.474044Z",
     "iopub.status.busy": "2022-05-17T14:42:17.473612Z",
     "iopub.status.idle": "2022-05-17T14:42:17.480049Z",
     "shell.execute_reply": "2022-05-17T14:42:17.479343Z",
     "shell.execute_reply.started": "2022-05-17T14:42:17.474009Z"
    },
    "tags": []
   },
   "outputs": [
    {
     "data": {
      "text/plain": [
       "2000"
      ]
     },
     "execution_count": 34,
     "metadata": {},
     "output_type": "execute_result"
    }
   ],
   "source": [
    "bm.bestModel.getMaxIter()"
   ]
  },
  {
   "cell_type": "code",
   "execution_count": 35,
   "metadata": {
    "execution": {
     "iopub.execute_input": "2022-05-17T14:42:17.481630Z",
     "iopub.status.busy": "2022-05-17T14:42:17.481176Z",
     "iopub.status.idle": "2022-05-17T14:42:17.559053Z",
     "shell.execute_reply": "2022-05-17T14:42:17.558108Z",
     "shell.execute_reply.started": "2022-05-17T14:42:17.481605Z"
    },
    "tags": []
   },
   "outputs": [],
   "source": [
    "tvs = TrainValidationSplit(estimator=lsvc,\n",
    "                           evaluator=evaluator,\n",
    "                           estimatorParamMaps=paramGrid,\n",
    "                           trainRatio=0.8)"
   ]
  },
  {
   "cell_type": "code",
   "execution_count": 36,
   "metadata": {
    "execution": {
     "iopub.execute_input": "2022-05-17T14:42:17.562962Z",
     "iopub.status.busy": "2022-05-17T14:42:17.562420Z",
     "iopub.status.idle": "2022-05-17T14:42:37.579577Z",
     "shell.execute_reply": "2022-05-17T14:42:37.578747Z",
     "shell.execute_reply.started": "2022-05-17T14:42:17.562898Z"
    },
    "tags": []
   },
   "outputs": [
    {
     "name": "stdout",
     "output_type": "stream",
     "text": [
      "CPU times: user 83.3 ms, sys: 32.5 ms, total: 116 ms\n",
      "Wall time: 20 s\n"
     ]
    }
   ],
   "source": [
    "%time bm_2 = tvs.fit(subSample)"
   ]
  },
  {
   "cell_type": "code",
   "execution_count": 37,
   "metadata": {
    "execution": {
     "iopub.execute_input": "2022-05-17T14:42:37.581096Z",
     "iopub.status.busy": "2022-05-17T14:42:37.580757Z",
     "iopub.status.idle": "2022-05-17T14:42:37.586994Z",
     "shell.execute_reply": "2022-05-17T14:42:37.585959Z",
     "shell.execute_reply.started": "2022-05-17T14:42:37.581062Z"
    },
    "tags": []
   },
   "outputs": [
    {
     "data": {
      "text/plain": [
       "2000"
      ]
     },
     "execution_count": 37,
     "metadata": {},
     "output_type": "execute_result"
    }
   ],
   "source": [
    "bm_2.bestModel.getMaxIter()"
   ]
  },
  {
   "cell_type": "markdown",
   "metadata": {},
   "source": [
    "CV and TVS gave me the same result. I did not want to run longtime calculation but maybe seraching in a wider range of the MaxIter parameters will give different numbers."
   ]
  },
  {
   "cell_type": "markdown",
   "metadata": {},
   "source": [
    "#### QUESTION 7: do you get a better accuracy? Why? Are you over/underfitting?"
   ]
  },
  {
   "cell_type": "code",
   "execution_count": 38,
   "metadata": {
    "execution": {
     "iopub.execute_input": "2022-05-17T14:43:26.712096Z",
     "iopub.status.busy": "2022-05-17T14:43:26.711467Z",
     "iopub.status.idle": "2022-05-17T14:43:38.505941Z",
     "shell.execute_reply": "2022-05-17T14:43:38.503597Z",
     "shell.execute_reply.started": "2022-05-17T14:43:26.712028Z"
    },
    "tags": []
   },
   "outputs": [
    {
     "name": "stdout",
     "output_type": "stream",
     "text": [
      "Test set AUC = 0.6590128341447168\n"
     ]
    }
   ],
   "source": [
    "res_1 = bm.transform(test)\n",
    "\n",
    "evaluator = BinaryClassificationEvaluator(labelCol='label', metricName=\"areaUnderROC\")\n",
    "print(\"Test set AUC = \" + str(evaluator.evaluate(res_1)))"
   ]
  },
  {
   "cell_type": "code",
   "execution_count": 39,
   "metadata": {
    "execution": {
     "iopub.execute_input": "2022-05-17T14:43:38.510767Z",
     "iopub.status.busy": "2022-05-17T14:43:38.510019Z",
     "iopub.status.idle": "2022-05-17T14:44:29.507713Z",
     "shell.execute_reply": "2022-05-17T14:44:29.506171Z",
     "shell.execute_reply.started": "2022-05-17T14:43:38.510708Z"
    },
    "tags": []
   },
   "outputs": [
    {
     "name": "stdout",
     "output_type": "stream",
     "text": [
      "AUC: 0.659\n",
      "+-----+----------+------+\n",
      "|label|prediction| count|\n",
      "+-----+----------+------+\n",
      "|  1.0|       1.0|920216|\n",
      "|  0.0|       1.0|649929|\n",
      "|  1.0|       0.0| 92425|\n",
      "|  0.0|       0.0|248730|\n",
      "+-----+----------+------+\n",
      "\n",
      "n precision: 0.586\n",
      "n recall: 0.909\n",
      "n accuracy: 0.612\n",
      "n F1 score: 0.713\n"
     ]
    }
   ],
   "source": [
    "printMetrics(evaluator, res_1)"
   ]
  },
  {
   "cell_type": "code",
   "execution_count": 40,
   "metadata": {
    "execution": {
     "iopub.execute_input": "2022-05-17T14:44:29.510661Z",
     "iopub.status.busy": "2022-05-17T14:44:29.509965Z",
     "iopub.status.idle": "2022-05-17T14:44:41.193123Z",
     "shell.execute_reply": "2022-05-17T14:44:41.191080Z",
     "shell.execute_reply.started": "2022-05-17T14:44:29.510594Z"
    },
    "tags": []
   },
   "outputs": [
    {
     "name": "stdout",
     "output_type": "stream",
     "text": [
      "Test set AUC = 0.659012147132099\n"
     ]
    }
   ],
   "source": [
    "res_2 = bm_2.transform(test)\n",
    "\n",
    "evaluator = BinaryClassificationEvaluator(labelCol='label', metricName=\"areaUnderROC\")\n",
    "print(\"Test set AUC = \" + str(evaluator.evaluate(res_2)))"
   ]
  },
  {
   "cell_type": "code",
   "execution_count": 41,
   "metadata": {
    "execution": {
     "iopub.execute_input": "2022-05-17T14:44:41.197269Z",
     "iopub.status.busy": "2022-05-17T14:44:41.196657Z",
     "iopub.status.idle": "2022-05-17T14:45:32.130057Z",
     "shell.execute_reply": "2022-05-17T14:45:32.128479Z",
     "shell.execute_reply.started": "2022-05-17T14:44:41.197201Z"
    },
    "tags": []
   },
   "outputs": [
    {
     "name": "stdout",
     "output_type": "stream",
     "text": [
      "AUC: 0.659\n",
      "+-----+----------+------+\n",
      "|label|prediction| count|\n",
      "+-----+----------+------+\n",
      "|  1.0|       1.0|920216|\n",
      "|  0.0|       1.0|649929|\n",
      "|  1.0|       0.0| 92425|\n",
      "|  0.0|       0.0|248730|\n",
      "+-----+----------+------+\n",
      "\n",
      "n precision: 0.586\n",
      "n recall: 0.909\n",
      "n accuracy: 0.612\n",
      "n F1 score: 0.713\n"
     ]
    }
   ],
   "source": [
    "printMetrics(evaluator, res_2)"
   ]
  },
  {
   "cell_type": "markdown",
   "metadata": {},
   "source": [
    "The model improved a bit but not so much.  If we compare the metrics with the one of the not tuned model, the values are quite similar so we are always underfiting the data. In general, I would say that lsvm is not a good model in this case."
   ]
  },
  {
   "cell_type": "markdown",
   "metadata": {},
   "source": [
    "#### QUESTION 8\n",
    "\n",
    "pick any two models (can be any from pyspark MLLib, Keras Sequential, BigDL sequential) and:\n",
    "- compare them in terms of performances (you can use results from previous days)\n",
    "- compare how they scale in terms of performances and training time when you change the number of executors (for example, from 1 to 5)\n",
    "- discuss the results"
   ]
  },
  {
   "cell_type": "markdown",
   "metadata": {},
   "source": [
    "I will compare my model with GBT since I think it is the more similar to LSVM. Let's begin from my model. I've run the LSVM on the data the first time getting an accuracy of 0.611 while using CV the accuracy rises to 0.612, not a great improve. This is confirmed by the fact that also the values of precision, recall and F1 are not changing. This could depends on two factors: the first one is that the model which I've chosen is not suitable to my training set or the fact that the only parameter that I gridsearched was the maximum number of iteration. In particular on this case, I would say both. Comparing LSVM with data form previous exercises, in particular from GBT, it is clear that the trees algotirhm performs better. I searched for the metrics using the GBT and I got accuracy of 0.705, precision of 0.719, reacall of 0.730 and finally F1 of 0.724. To confirm the analysis, I ran the same calculation on MCP and I got accuracy of 0.671, precision of 0.666, recall of 0.760 and finally an F1 score of 0.710. This confirms that, among the three models I picked, the best one is GBT."
   ]
  },
  {
   "cell_type": "code",
   "execution_count": null,
   "metadata": {},
   "outputs": [],
   "source": [
    "#scaling time"
   ]
  },
  {
   "cell_type": "markdown",
   "metadata": {},
   "source": [
    "To see thee computational time, I ran the script on another Jupyter notebook using the 1M event file"
   ]
  },
  {
   "cell_type": "code",
   "execution_count": 42,
   "metadata": {
    "execution": {
     "iopub.execute_input": "2022-05-17T14:47:37.370592Z",
     "iopub.status.busy": "2022-05-17T14:47:37.369792Z",
     "iopub.status.idle": "2022-05-17T14:47:37.378215Z",
     "shell.execute_reply": "2022-05-17T14:47:37.376417Z",
     "shell.execute_reply.started": "2022-05-17T14:47:37.370524Z"
    }
   },
   "outputs": [],
   "source": [
    "import matplotlib.pyplot as plt"
   ]
  },
  {
   "cell_type": "code",
   "execution_count": 43,
   "metadata": {
    "execution": {
     "iopub.execute_input": "2022-05-17T14:47:37.917364Z",
     "iopub.status.busy": "2022-05-17T14:47:37.916525Z",
     "iopub.status.idle": "2022-05-17T14:47:37.925979Z",
     "shell.execute_reply": "2022-05-17T14:47:37.924536Z",
     "shell.execute_reply.started": "2022-05-17T14:47:37.917293Z"
    },
    "tags": []
   },
   "outputs": [],
   "source": [
    "n_workers = [1,2,3,5,10,15,20,50]\n",
    "total_time =[46.4,31.1,19.8,41.5,38.3,21,19.6,21.2] "
   ]
  },
  {
   "cell_type": "code",
   "execution_count": 44,
   "metadata": {
    "execution": {
     "iopub.execute_input": "2022-05-17T14:47:38.332189Z",
     "iopub.status.busy": "2022-05-17T14:47:38.331596Z",
     "iopub.status.idle": "2022-05-17T14:47:38.465459Z",
     "shell.execute_reply": "2022-05-17T14:47:38.464880Z",
     "shell.execute_reply.started": "2022-05-17T14:47:38.332122Z"
    },
    "tags": []
   },
   "outputs": [
    {
     "data": {
      "image/png": "[encoded data removed]",
      "text/plain": [
       "<Figure size 432x288 with 1 Axes>"
      ]
     },
     "metadata": {
      "needs_background": "light"
     },
     "output_type": "display_data"
    }
   ],
   "source": [
    "plt.plot(n_workers,total_time,'o--')\n",
    "plt.xlabel('#workers')\n",
    "plt.ylabel('total time [ms]')\n",
    "plt.show()"
   ]
  },
  {
   "cell_type": "markdown",
   "metadata": {},
   "source": [
    "Except for the point 2 and 3, the scaling is quite coherent to what I was expecting"
   ]
  },
  {
   "cell_type": "code",
   "execution_count": 45,
   "metadata": {
    "execution": {
     "iopub.execute_input": "2022-05-17T14:47:43.203086Z",
     "iopub.status.busy": "2022-05-17T14:47:43.202396Z",
     "iopub.status.idle": "2022-05-17T14:47:43.746979Z",
     "shell.execute_reply": "2022-05-17T14:47:43.745230Z",
     "shell.execute_reply.started": "2022-05-17T14:47:43.203025Z"
    },
    "tags": []
   },
   "outputs": [],
   "source": [
    "# When you're done, stop spark\n",
    "spark.stop()"
   ]
  },
  {
   "cell_type": "code",
   "execution_count": null,
   "metadata": {},
   "outputs": [],
   "source": []
  }
 ],
 "metadata": {
  "kernelspec": {
   "display_name": "Python 3 (ipykernel)",
   "language": "python",
   "name": "python3"
  },
  "language_info": {
   "codemirror_mode": {
    "name": "ipython",
    "version": 3
   },
   "file_extension": ".py",
   "mimetype": "text/x-python",
   "name": "python",
   "nbconvert_exporter": "python",
   "pygments_lexer": "ipython3",
   "version": "3.9.7"
  },
  "sparkconnect": {
   "bundled_options": [],
   "list_of_options": []
  }
 },
 "nbformat": 4,
 "nbformat_minor": 4
}
